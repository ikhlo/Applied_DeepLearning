{
  "nbformat": 4,
  "nbformat_minor": 0,
  "metadata": {
    "colab": {
      "name": "Soutenance_notebook.ipynb",
      "provenance": [],
      "collapsed_sections": []
    },
    "kernelspec": {
      "name": "python3",
      "display_name": "Python 3"
    },
    "language_info": {
      "name": "python"
    },
    "accelerator": "GPU"
  },
  "cells": [
    {
      "cell_type": "markdown",
      "source": [
        "# Libraries and Installations"
      ],
      "metadata": {
        "id": "Yb1jPSo6jYiE"
      }
    },
    {
      "cell_type": "code",
      "source": [
        "from google.colab import drive\n",
        "drive.mount('/content/drive')"
      ],
      "metadata": {
        "colab": {
          "base_uri": "https://localhost:8080/"
        },
        "id": "gFlW1YsAw_xV",
        "outputId": "e2d8872a-0f42-4b7c-ee57-bf4e58f9b182"
      },
      "execution_count": 1,
      "outputs": [
        {
          "output_type": "stream",
          "name": "stdout",
          "text": [
            "Mounted at /content/drive\n"
          ]
        }
      ]
    },
    {
      "cell_type": "code",
      "source": [
        "%cd /content/drive/MyDrive/M2_DataScience_Ikhlass/Applied Deep Learning/Projet/presentation\n",
        "!ls"
      ],
      "metadata": {
        "colab": {
          "base_uri": "https://localhost:8080/"
        },
        "id": "5hsYnXi1iFG-",
        "outputId": "6cf54435-2282-40a5-cda8-d1458a19ece0"
      },
      "execution_count": 2,
      "outputs": [
        {
          "output_type": "stream",
          "name": "stdout",
          "text": [
            "/content/drive/MyDrive/M2_DataScience_Ikhlass/Applied Deep Learning/Projet/presentation\n",
            " authorsName_to_id.pickle\t     papersid_to_title.pickle\n",
            "'Copie de GraphRecSys_final.ipynb'   Soutenance_notebook.ipynb\n",
            " data_pyg.pt\t\t\t     test_data_pyg.pt\n",
            " dblp.json\t\t\t     train_data_pyg.pt\n",
            " embeddings.npz\t\t\t     vgae_gcn_h128_out32_relu.pt\n",
            " gae_2sage_h128_out32_relu.pt\n"
          ]
        }
      ]
    },
    {
      "cell_type": "code",
      "source": [
        "import json\n",
        "import pickle\n",
        "\n",
        "import numpy as np\n",
        "\n",
        "import torch\n",
        "import torch.nn as nn\n",
        "import torch.nn.functional as F"
      ],
      "metadata": {
        "id": "xihQYN_Aigr0"
      },
      "execution_count": 3,
      "outputs": []
    },
    {
      "cell_type": "code",
      "source": [
        "#INSTALL TORCH GEOMETRIC\n",
        "!pip install -q git+https://github.com/pyg-team/pytorch_geometric.git \n",
        "!pip install -q torch-scatter torch-sparse -f https://data.pyg.org/whl/torch-{torch.__version__}.html\n",
        "\n",
        "from torch_geometric.nn.models import InnerProductDecoder, VGAE\n",
        "from torch_geometric.nn import GCNConv, GNNExplainer, SAGEConv"
      ],
      "metadata": {
        "colab": {
          "base_uri": "https://localhost:8080/"
        },
        "id": "UeyiFjZ305ix",
        "outputId": "3bf74f53-c4cc-4223-e81e-6ae1d264fea8"
      },
      "execution_count": 4,
      "outputs": [
        {
          "output_type": "stream",
          "name": "stdout",
          "text": [
            "  Building wheel for torch-geometric (setup.py) ... \u001b[?25l\u001b[?25hdone\n",
            "\u001b[K     |████████████████████████████████| 7.9 MB 5.6 MB/s \n",
            "\u001b[K     |████████████████████████████████| 3.5 MB 41.2 MB/s \n",
            "\u001b[?25h"
          ]
        }
      ]
    },
    {
      "cell_type": "code",
      "source": [
        "device = torch.device('cuda' if torch.cuda.is_available() else 'cpu')"
      ],
      "metadata": {
        "id": "E-3rqfb_MwUf"
      },
      "execution_count": 5,
      "outputs": []
    },
    {
      "cell_type": "markdown",
      "source": [
        "## Load dblp dataset"
      ],
      "metadata": {
        "id": "s5xk_oFw0HYS"
      }
    },
    {
      "cell_type": "code",
      "source": [
        "dblp = []\n",
        "with open('dblp.json', 'r') as json_file:\n",
        "    dblp = json.load(json_file)"
      ],
      "metadata": {
        "id": "KWZIsmqazXHA"
      },
      "execution_count": 6,
      "outputs": []
    },
    {
      "cell_type": "markdown",
      "source": [
        "## Load authors and papers dict"
      ],
      "metadata": {
        "id": "oQTYpEz7MYqd"
      }
    },
    {
      "cell_type": "code",
      "source": [
        "with open('authorsName_to_id.pickle', 'rb') as f:\n",
        "    authors_dict = pickle.load(f)\n",
        "\n",
        "with open('papersid_to_title.pickle', 'rb') as f:\n",
        "    papers_dict = pickle.load(f)"
      ],
      "metadata": {
        "id": "t7R0yGlXMiI4"
      },
      "execution_count": 7,
      "outputs": []
    },
    {
      "cell_type": "markdown",
      "source": [
        "## Load titles and abstracts embedding"
      ],
      "metadata": {
        "id": "1DkM43oJzKQH"
      }
    },
    {
      "cell_type": "code",
      "source": [
        "data = np.load('embeddings.npz')\n",
        "abs_embeddings = data['abstracts_emb']\n",
        "title_embeddings = data['title_emb']"
      ],
      "metadata": {
        "id": "ItKc24fxzSAX"
      },
      "execution_count": 8,
      "outputs": []
    },
    {
      "cell_type": "markdown",
      "source": [
        "# Visualizations"
      ],
      "metadata": {
        "id": "7DqC99YiABMU"
      }
    },
    {
      "cell_type": "code",
      "source": [
        "import matplotlib.pyplot as plt\n",
        "from matplotlib.patches import ConnectionPatch\n",
        "import numpy as np\n",
        "\n",
        "nb_authors = dict()\n",
        "for i in range(len(dblp)):\n",
        "  nb_authors[len(dblp[i][\"authors\"])] = nb_authors.get(len(dblp[i][\"authors\"]), 0) + 1\n",
        "\n",
        "authors1 = round((nb_authors[2] + nb_authors[3])/len(dblp), 2)\n",
        "authors2 = round(nb_authors[4]/len(dblp), 2)\n",
        "authors3 = round(1 - authors1 - authors2, 2)\n",
        "\n",
        "authors5 = len(dblp) - (nb_authors[2] + nb_authors[3] + nb_authors[4])\n",
        "\n",
        "authors5_1 = round(nb_authors[5]/authors5, 2)\n",
        "authors5_2 = round(nb_authors[6]/authors5, 2)\n",
        "authors5_3 = round(nb_authors[7]/authors5, 2)\n",
        "authors5_4 = round(1 - authors5_1 - authors5_2 - authors5_3, 2)\n",
        "\n",
        "# make figure and assign axis objects\n",
        "fig, (ax1, ax2) = plt.subplots(1, 2, figsize=(9, 5))\n",
        "fig.subplots_adjust(wspace=0)\n",
        "\n",
        "# pie chart parameters\n",
        "ratios = [authors3, authors1, authors2]\n",
        "labels = ['5+', '2-3', '4']\n",
        "explode = [0.1, 0, 0]\n",
        "# rotate so that first wedge is split by the x-axis\n",
        "angle = -180 * ratios[0]\n",
        "ax1.set_title(\"Number of authors per paper\")\n",
        "ax1.pie(ratios, autopct='%1.1f%%', startangle=angle,\n",
        "        labels=labels, explode=explode)\n",
        "\n",
        "# bar chart parameters\n",
        "\n",
        "xpos = 0\n",
        "bottom = 0\n",
        "ratios = [authors5_4, authors5_3, authors5_2, authors5_1]\n",
        "width = .2\n",
        "colors = [[.1, .3, .5], [.1, .3, .3], [.1, .3, .7], [.1, .3, .9]]\n",
        "\n",
        "for j in range(len(ratios)):\n",
        "    height = ratios[j]\n",
        "    ax2.bar(xpos, height, width, bottom=bottom, color=colors[j])\n",
        "    ypos = bottom + ax2.patches[j].get_height() / 2\n",
        "    bottom += height\n",
        "    ax2.text(xpos, ypos, \"%d%%\" % (ax2.patches[j].get_height() * 100),\n",
        "             ha='center')\n",
        "\n",
        "ax2.set_title('Number of authors when 5 or more')\n",
        "ax2.legend(('8+', '7', '6', '5'))\n",
        "ax2.axis('off')\n",
        "ax2.set_xlim(- 2.5 * width, 2.5 * width)\n",
        "\n",
        "# use ConnectionPatch to draw lines between the two plots\n",
        "# get the wedge data\n",
        "theta1, theta2 = ax1.patches[0].theta1, ax1.patches[0].theta2\n",
        "center, r = ax1.patches[0].center, ax1.patches[0].r\n",
        "bar_height = sum([item.get_height() for item in ax2.patches])\n",
        "\n",
        "# draw top connecting line\n",
        "x = r * np.cos(np.pi / 180 * theta2) + center[0]\n",
        "y = r * np.sin(np.pi / 180 * theta2) + center[1]\n",
        "con = ConnectionPatch(xyA=(-width / 2, bar_height), coordsA=ax2.transData,\n",
        "                      xyB=(x, y), coordsB=ax1.transData)\n",
        "con.set_color([0, 0, 0])\n",
        "con.set_linewidth(4)\n",
        "ax2.add_artist(con)\n",
        "\n",
        "# draw bottom connecting line\n",
        "x = r * np.cos(np.pi / 180 * theta1) + center[0]\n",
        "y = r * np.sin(np.pi / 180 * theta1) + center[1]\n",
        "con = ConnectionPatch(xyA=(-width / 2, 0), coordsA=ax2.transData,\n",
        "                      xyB=(x, y), coordsB=ax1.transData)\n",
        "con.set_color([0, 0, 0])\n",
        "ax2.add_artist(con)\n",
        "con.set_linewidth(4)\n",
        "\n",
        "plt.show()"
      ],
      "metadata": {
        "colab": {
          "base_uri": "https://localhost:8080/",
          "height": 319
        },
        "id": "_sWohTppADq5",
        "outputId": "c039831f-eba0-4ec8-bbdd-a7345f73bec7"
      },
      "execution_count": 9,
      "outputs": [
        {
          "output_type": "display_data",
          "data": {
            "text/plain": [
              "<Figure size 648x360 with 2 Axes>"
            ],
            "image/png": "[encoded data removed]"
          },
          "metadata": {
            "needs_background": "light"
          }
        }
      ]
    },
    {
      "cell_type": "code",
      "source": [
        "citations = list()\n",
        "for i in range(len(dblp)):\n",
        "  if dblp[i].get(\"references\"):\n",
        "    citations.append(len(dblp[i][\"references\"]))\n",
        "  else:\n",
        "    citations.append(0)\n",
        "citations.sort()\n",
        "\n",
        "plt.hist(citations, range = (0, 50), bins = 50, color = 'blue',\n",
        "            edgecolor = 'red')\n",
        "plt.ylabel('Number of papers')\n",
        "plt.xlabel('Number of references')\n",
        "plt.title('Number of references per paper')\n"
      ],
      "metadata": {
        "colab": {
          "base_uri": "https://localhost:8080/",
          "height": 312
        },
        "id": "ODTpUJtlAF3d",
        "outputId": "1fb5005d-c496-48ed-8b8e-f4c73270ebad"
      },
      "execution_count": 10,
      "outputs": [
        {
          "output_type": "execute_result",
          "data": {
            "text/plain": [
              "Text(0.5, 1.0, 'Number of references per paper')"
            ]
          },
          "metadata": {},
          "execution_count": 10
        },
        {
          "output_type": "display_data",
          "data": {
            "text/plain": [
              "<Figure size 432x288 with 1 Axes>"
            ],
            "image/png": "[encoded data removed]"
          },
          "metadata": {
            "needs_background": "light"
          }
        }
      ]
    },
    {
      "cell_type": "code",
      "source": [
        "papers_available = set()\n",
        "for i in range(len(dblp)):\n",
        "  papers_available.add(dblp[i][\"id\"])\n",
        "\n",
        "available = 0\n",
        "non_available = 0\n",
        "for i in range(len(dblp)):\n",
        "  if dblp[i].get(\"references\"):\n",
        "    for reference in dblp[i][\"references\"]:\n",
        "      if reference in papers_available:\n",
        "        available += 1\n",
        "      else:\n",
        "        non_available += 1\n",
        "\n",
        "tot_references = available + non_available\n",
        "available = round(available / tot_references, 2)\n",
        "non_available = round(non_available / tot_references, 2)\n",
        "\n",
        "y = np.array([available, non_available])\n",
        "mylabels = [\"Yes\", \"No\"]\n",
        "myexplode = [0.1, 0]\n",
        "\n",
        "plt.pie(y, labels = mylabels, explode = myexplode, autopct='%1.1f%%')\n",
        "plt.title(\"Are the references available?\")\n",
        "plt.show()"
      ],
      "metadata": {
        "colab": {
          "base_uri": "https://localhost:8080/",
          "height": 264
        },
        "id": "FmsRhO2MAFhN",
        "outputId": "61094f4d-5599-4987-de10-cafbc9607adb"
      },
      "execution_count": 11,
      "outputs": [
        {
          "output_type": "display_data",
          "data": {
            "text/plain": [
              "<Figure size 432x288 with 1 Axes>"
            ],
            "image/png": "[encoded data removed]"
          },
          "metadata": {}
        }
      ]
    },
    {
      "cell_type": "markdown",
      "source": [
        "# Graph models"
      ],
      "metadata": {
        "id": "hbOKUTYFjduM"
      }
    },
    {
      "cell_type": "markdown",
      "source": [
        "## Build models"
      ],
      "metadata": {
        "id": "9WScqgDc0g_S"
      }
    },
    {
      "cell_type": "markdown",
      "source": [
        "### GAE"
      ],
      "metadata": {
        "id": "1ACOgaYd0sKH"
      }
    },
    {
      "cell_type": "code",
      "source": [
        "class Net(torch.nn.Module):\n",
        "    def __init__(self):\n",
        "        super(Net, self).__init__()\n",
        "        self.sage1 = SAGEConv(data.num_node_features, 128)\n",
        "        self.sage2 = SAGEConv(128, 32)\n",
        "        self.lrelu = nn.LeakyReLU()\n",
        "\n",
        "    def encode(self, data_pyg):\n",
        "        x = self.sage1(data_pyg.x.float(), data_pyg.pos_edge_index) # convolution 1\n",
        "        x = self.lrelu(x)\n",
        "        x = self.sage2(x, data_pyg.pos_edge_index) # convolution 2\n",
        "        return x\n",
        "\n",
        "    def decode(self, z, edge_index): # only pos and neg edges\n",
        "        logits = (z[edge_index[0]] * z[edge_index[1]]).sum(dim=-1)  # dot product \n",
        "        return logits\n",
        "\n",
        "    def decode_all(self, z): \n",
        "        prob_adj = z @ z.t() # get adj NxN\n",
        "        return (prob_adj > 0).nonzero(as_tuple=False).t() # get predicted edge_list "
      ],
      "metadata": {
        "id": "dAIu-SBn0gfF"
      },
      "execution_count": 12,
      "outputs": []
    },
    {
      "cell_type": "markdown",
      "source": [
        "### VGAE"
      ],
      "metadata": {
        "id": "y61La-3t0uij"
      }
    },
    {
      "cell_type": "code",
      "source": [
        "class GCNEncoder(nn.Module):\n",
        "    def __init__(self, in_channels, hidden_channels, out_channels):\n",
        "        super(GCNEncoder, self).__init__()\n",
        "        self.gcn_shared = GCNConv(in_channels, hidden_channels)\n",
        "        self.gcn_mu = GCNConv(hidden_channels, out_channels)\n",
        "        self.gcn_logvar = GCNConv(hidden_channels, out_channels)\n",
        "\n",
        "    def forward(self, x, edge_index):\n",
        "        x = F.relu(self.gcn_shared(x, edge_index))\n",
        "        mu = self.gcn_mu(x, edge_index)\n",
        "        logvar = self.gcn_logvar(x, edge_index)\n",
        "        return mu, logvar\n",
        "\n",
        "class DeepVGAE(VGAE):\n",
        "    def __init__(self, gcn_encoder):\n",
        "        super(DeepVGAE, self).__init__(encoder=gcn_encoder,\n",
        "                                       decoder=InnerProductDecoder())\n",
        "\n",
        "    def forward(self, x, edge_index):\n",
        "        z = self.encode(x, edge_index)\n",
        "        adj_pred = self.decoder.forward_all(z)\n",
        "        return adj_pred\n",
        "\n",
        "    def loss(self, x, all_edge_label, all_edge_index):\n",
        "        pos_edge_index = all_edge_index[:, all_edge_label==1]\n",
        "        neg_edge_index = all_edge_index[:, all_edge_label==0]\n",
        "\n",
        "        z = self.encode(x, pos_edge_index)\n",
        "\n",
        "        pos_loss = -torch.log(\n",
        "            self.decoder(z, pos_edge_index, sigmoid=True) + 1e-15).mean()\n",
        "\n",
        "        neg_loss = -torch.log(1 - self.decoder(z, neg_edge_index, sigmoid=True) + 1e-15).mean()\n",
        "\n",
        "        kl_loss = 1 / x.size(0) * self.kl_loss()\n",
        "\n",
        "        return pos_loss + neg_loss + kl_loss\n",
        "\n",
        "    def single_test(self, x, train_pos_edge_index, test_pos_edge_index, test_neg_edge_index):\n",
        "        with torch.no_grad():\n",
        "            z = self.encode(x, train_pos_edge_index)\n",
        "        roc_auc_score, average_precision_score = self.test(z, test_pos_edge_index, test_neg_edge_index)\n",
        "        return roc_auc_score, average_precision_score"
      ],
      "metadata": {
        "id": "We7iWc7T0wR-"
      },
      "execution_count": 13,
      "outputs": []
    },
    {
      "cell_type": "markdown",
      "source": [
        "## Load Torch geometric dataset"
      ],
      "metadata": {
        "id": "U40v9RFSDQLj"
      }
    },
    {
      "cell_type": "code",
      "source": [
        "data = torch.load('data_pyg.pt', map_location=device)\n",
        "train_data = torch.load('train_data_pyg.pt', map_location=device)\n",
        "test_data = torch.load('test_data_pyg.pt', map_location=device)"
      ],
      "metadata": {
        "id": "_SRTMivRD13l"
      },
      "execution_count": 14,
      "outputs": []
    },
    {
      "cell_type": "markdown",
      "source": [
        "## Load models"
      ],
      "metadata": {
        "id": "ymSH3qRNL5y6"
      }
    },
    {
      "cell_type": "code",
      "source": [
        "gae = Net()\n",
        "gae.load_state_dict(torch.load('gae_2sage_h128_out32_relu.pt'))\n",
        "gae.to(device)\n",
        "\n",
        "\n",
        "vgae = DeepVGAE(GCNEncoder(768, 128, 32))\n",
        "vgae.load_state_dict(torch.load('vgae_gcn_h128_out32_relu.pt'))\n",
        "vgae.to(device)\n",
        "print('Models loaded')"
      ],
      "metadata": {
        "id": "z4Q_VRcoL-6k",
        "colab": {
          "base_uri": "https://localhost:8080/"
        },
        "outputId": "5f376c63-e469-4b5a-ac65-70bb88293aa2"
      },
      "execution_count": 15,
      "outputs": [
        {
          "output_type": "stream",
          "name": "stdout",
          "text": [
            "Models loaded\n"
          ]
        }
      ]
    },
    {
      "cell_type": "markdown",
      "source": [
        "# Recommmender systems"
      ],
      "metadata": {
        "id": "MvID7843MF7D"
      }
    },
    {
      "cell_type": "code",
      "source": [
        "@torch.no_grad()\n",
        "def recommend_gae(model, author_name, authors_name2id, papers_id2title):\n",
        "    model.eval()\n",
        "    \n",
        "    authorid = authors_name2id[author_name]\n",
        "    papers_nodes = (torch.arange(len(papers_id2title)) + len(authors_name2id)).view(1, -1)\n",
        "    author_node = torch.full(papers_nodes.shape, authorid)\n",
        "    curr_edge_index = torch.cat([author_node, papers_nodes], dim=0)\n",
        "\n",
        "    z = model.encode(train_data) # encode train\n",
        "    link_logits = model.decode(z, curr_edge_index) # decode current\n",
        "    link_probs = link_logits.sigmoid() # apply sigmoid\n",
        "    return link_logits\n",
        "\n",
        "@torch.no_grad()\n",
        "def recommend_vgae(model, author_name, authors_name2id, papers_id2title):\n",
        "    model.eval()\n",
        "    \n",
        "    authorid = authors_name2id[author_name]\n",
        "    papers_nodes = (torch.arange(len(papers_id2title)) + len(authors_name2id)).view(1, -1)\n",
        "    author_node = torch.full(papers_nodes.shape, authorid)\n",
        "    curr_edge_index = torch.cat([author_node, papers_nodes], dim=0)\n",
        "\n",
        "    z = model.encode(data.x.to(device), curr_edge_index.to(device)) # encode train\n",
        "    link_logits = model.decode(z, curr_edge_index) # decode test or val\n",
        "    link_probs = link_logits.sigmoid() # apply sigmoid\n",
        "    label_probs = [test_data.edge_label.cpu(), link_probs.cpu()]\n",
        "    return link_logits"
      ],
      "metadata": {
        "id": "TyKxJOyRMIm6"
      },
      "execution_count": 16,
      "outputs": []
    },
    {
      "cell_type": "markdown",
      "source": [
        "## Simple recommendation"
      ],
      "metadata": {
        "id": "ulTCoWeauHGJ"
      }
    },
    {
      "cell_type": "markdown",
      "source": [
        "Libraries needed to calculate cosine similarity, euclidean distance and dot product."
      ],
      "metadata": {
        "id": "_ou4uydEuK5b"
      }
    },
    {
      "cell_type": "code",
      "source": [
        "from sklearn.metrics.pairwise import cosine_similarity\n",
        "from scipy.spatial import distance\n",
        "import numpy as np\n",
        "import copy"
      ],
      "metadata": {
        "id": "8O39qUoRvdJQ"
      },
      "execution_count": 17,
      "outputs": []
    },
    {
      "cell_type": "markdown",
      "source": [
        "Here, we create the papers embeddings.\n",
        "The embeddings of a paper will be the concatenation of the embeddings of its abstract and its title."
      ],
      "metadata": {
        "id": "nhc8Z5Phvd70"
      }
    },
    {
      "cell_type": "code",
      "source": [
        "papers_embeddings = [] # In this we will store the embeddings of the papers\n",
        "for i in range(len(dblp)): # For each paper...\n",
        "  papers_embeddings.append(np.hstack((abs_embeddings[i], title_embeddings[i]))) # ... we concatenate the embeddings of its abstract and its title"
      ],
      "metadata": {
        "id": "uWoTx_u2vgTC"
      },
      "execution_count": 18,
      "outputs": []
    },
    {
      "cell_type": "markdown",
      "source": [
        "We create a function that uses 'papers_embeddings' to recommends 'number_of_papers' papers to 'name' based on the 'method'."
      ],
      "metadata": {
        "id": "WY67esCOvhmQ"
      }
    },
    {
      "cell_type": "code",
      "source": [
        "def papers_recommender(name, papers_embeddings, number_of_papers, method):\n",
        "\n",
        "  author_embeddings = [] # In this we will store the embeddings of the author\n",
        "  for i in range(len(dblp)): # We check each paper one by one\n",
        "    if name in dblp[i][\"authors\"]: # If the author has written this paper...\n",
        "      author_embeddings.append(papers_embeddings[i]) # ... we add to his embeddings the embeddings of the paper\n",
        "  author_embeddings = [np.mean(k) for k in zip(*author_embeddings)] # Our final embeddings contains the mean of all the embeddings of its papers\n",
        "\n",
        "  new_dblp = copy.deepcopy(dblp) # New variable so that we don't touch the original\n",
        "  new_papers_embeddings = copy.deepcopy(papers_embeddings) # New variable so that we don't touch the original\n",
        "\n",
        "  papers_to_del = [] # List that will contain the indexes of the papers that the author wrote\n",
        "  for i in range(len(dblp)): # We check every paper\n",
        "    if name in dblp[i][\"authors\"]: # If the author has written this paper...\n",
        "      papers_to_del.append(i) # Then we add the index of this paper to the list of papers to delete\n",
        "  papers_to_del.sort(reverse = True) # We class them in descending order so that it doesn't mess with the indexes\n",
        "  for i in papers_to_del: # We loop inside the index of every paper that the author wrote\n",
        "    new_dblp.pop(i) # We delete this paper\n",
        "    new_papers_embeddings.pop(i) # We delete its embeddings\n",
        "\n",
        "  recommendations = dict() # This dictionary will have the index of paper as key and the value of the method we use between the paper and the author as value\n",
        "  for i in range(len(new_papers_embeddings)): # We loop into every paper that the author didn't write\n",
        "    if method == \"cosine similarity\": # If we want to use cosine similarity\n",
        "      recommendations[i] = float(cosine_similarity([new_papers_embeddings[i]], [author_embeddings])) # We append the cosine similarity to the dictionary\n",
        "    elif method == \"dot product\": # If we want to use dot product\n",
        "      recommendations[i] = np.dot(new_papers_embeddings[i], author_embeddings)\n",
        "    else: # If we want to use euclidean distance\n",
        "      recommendations[i] = distance.euclidean(new_papers_embeddings[i], author_embeddings)\n",
        "  sort_recommendations = sorted(recommendations.items(), key=lambda x: x[1], reverse=sort_descending) # We create a list where we sort the values according to the method\n",
        "  sort_indexes = list(list(zip(*sort_recommendations))[0]) # We create a list containing the indexes sorted according to the method\n",
        "  sort_titles = [] # We create a list that will contain the titles sorted according to the method\n",
        "  for i in range(number_of_papers): # We go through the numbers of papers we want to recommend...\n",
        "    sort_titles.append(new_dblp[sort_indexes[i]]['title']) # ...and we add them to the list of titles\n",
        "  return sort_titles"
      ],
      "metadata": {
        "id": "3XsW__pgvkEE"
      },
      "execution_count": 19,
      "outputs": []
    },
    {
      "cell_type": "markdown",
      "source": [
        "In the next cell, we execute the function to recommend the papers to a selected author using a selected method."
      ],
      "metadata": {
        "id": "yeKXDq_vvmQV"
      }
    },
    {
      "cell_type": "code",
      "source": [
        "number_of_papers = 10 # The number of papers we want to recommend\n",
        "\n",
        "name = input(\"Enter your name: \")\n",
        "while name not in authors_dict.keys():\n",
        "  name = input(\"You are not in the database. Please enter the name of someone else: \")\n",
        "\n",
        "methods = [\"cosine similarity\", \"dot product\", \"euclidean distance\"]\n",
        "method = input(\"Enter your method you want to use ('cosine similarity', 'dot product' or 'euclidean distance'): \")\n",
        "while method not in methods:\n",
        "  method = input(\"Please enter the name of another method ('cosine similarity', 'dot product' or 'euclidean distance'): \")\n",
        "\n",
        "sort_descending = True # We want to maximize cosine similarity and dot product \n",
        "if method == \"euclidean distance\":\n",
        "  sort_descending = False # We want to minimize euclidean distance \n",
        "\n",
        "paper_for_you = papers_recommender(name, papers_embeddings, number_of_papers, method)\n",
        "papers_written = []\n",
        "for i in range(len(dblp)):\n",
        "  if name in dblp[i][\"authors\"]:\n",
        "    papers_written.append(dblp[i][\"title\"])\n",
        "print(\"You have written \" + str(len(papers_written)) + \" papers from our database:\")\n",
        "for i in range(len(papers_written)):\n",
        "  print(str(i + 1) + \" - \" + papers_written[i])\n",
        "print(\"Based on that, here are the \" + str(number_of_papers) + \" papers that we recommend you the most using \" + method + \":\")\n",
        "for i in range(number_of_papers):\n",
        "  print(str(i + 1) + \" - \" + paper_for_you[i])"
      ],
      "metadata": {
        "id": "fZxFfYRKvn4K",
        "colab": {
          "base_uri": "https://localhost:8080/"
        },
        "outputId": "fbd0e604-3b42-4aee-c146-c69677b3af46"
      },
      "execution_count": 20,
      "outputs": [
        {
          "output_type": "stream",
          "name": "stdout",
          "text": [
            "Enter your name: Olivier Grisel\n",
            "Enter your method you want to use ('cosine similarity', 'dot product' or 'euclidean distance'): euclidean distance\n",
            "You have written 5 papers from our database:\n",
            "1 - Principal Component Regression Predicts Functional Responses across Individuals\n",
            "2 - API design for machine learning software: experiences from the scikit-learn project\n",
            "3 - Scikit-learn: Machine Learning in Python\n",
            "4 - Semi-supervised factored logistic regression for high-dimensional neuroimaging data\n",
            "5 - Scikit-learn: Machine Learning Without Learning the Machinery\n",
            "Based on that, here are the 10 papers that we recommend you the most using euclidean distance:\n",
            "1 - The SHOGUN Machine Learning Toolbox\n",
            "2 - Scale-invariant learning and convolutional networks\n",
            "3 - Statistical Learning Theory: A Primer\n",
            "4 - Making Early Predictions of the Accuracy of Machine Learning Applications\n",
            "5 - Introduction to Semi-Supervised Learning\n",
            "6 - Learning dynamic Bayesian network models via cross-validation\n",
            "7 - Open science in machine learning\n",
            "8 - One-Class versus Binary Classification: Which and When?\n",
            "9 - A fast semi-linear backpropagation learning algorithm\n",
            "10 - Multi-scale support vector machine for regression estimation\n"
          ]
        }
      ]
    },
    {
      "cell_type": "markdown",
      "source": [
        "## Recommendations using GAE"
      ],
      "metadata": {
        "id": "4iektMJrMV3c"
      }
    },
    {
      "cell_type": "code",
      "source": [
        "K = 10 # number of recommendations"
      ],
      "metadata": {
        "id": "KKlKl466wiP_"
      },
      "execution_count": 21,
      "outputs": []
    },
    {
      "cell_type": "markdown",
      "source": [
        "### by decoding the GAE latent dim"
      ],
      "metadata": {
        "id": "VeNpsWe5l4GA"
      }
    },
    {
      "cell_type": "code",
      "source": [
        "recommendations = recommend_gae(gae, 'Olivier Grisel', authors_dict, papers_dict).topk(K)\n",
        "for title, score in zip(recommendations.indices, recommendations.values) :\n",
        "    print(f\"{papers_dict[title]} - {score}\\n\")"
      ],
      "metadata": {
        "id": "ol1i3nfnMXZz",
        "colab": {
          "base_uri": "https://localhost:8080/"
        },
        "outputId": "dddc98c6-af26-4f84-a79b-7e124f489122"
      },
      "execution_count": 22,
      "outputs": [
        {
          "output_type": "stream",
          "name": "stdout",
          "text": [
            "Locally constrained active contour: a region-based level set for ovarian cancer metastasis segmentation - 5.320206642150879\n",
            "\n",
            "3D/2D Registration Via Skeletal Near Projective Invariance in Tubular Objects - 5.161672592163086\n",
            "\n",
            "A graph-with-loop structure for a topological representation of 3D objects - 5.146899223327637\n",
            "\n",
            "A low complexity and robust frequency offset estimation algorithm for OFDM-Based WLAN systems - 5.11851692199707\n",
            "\n",
            "3-D Angular Spectrum Measurements at 5 GHz in a Residential Two-Story House - 5.096289157867432\n",
            "\n",
            "3D-2D registration based on mesh-derived image bisection - 5.087277412414551\n",
            "\n",
            "A watermarking scheme based on discrete non-separable wavelet transform - 5.0563154220581055\n",
            "\n",
            "Nonlinear elasto-mammography for characterization of breast tissue properties - 5.024839878082275\n",
            "\n",
            "A robust hole-filling algorithm for triangular mesh - 5.022103309631348\n",
            "\n",
            "Biometric Feature-Type Transformation: Making templates compatible for secret protection - 5.019630432128906\n",
            "\n"
          ]
        }
      ]
    },
    {
      "cell_type": "markdown",
      "source": [
        "### by applying cosine similarity "
      ],
      "metadata": {
        "id": "zGJreBVgm6_k"
      }
    },
    {
      "cell_type": "code",
      "source": [
        "gae_embeddings = gae.encode(data)\n",
        "author_gae_emb = gae_embeddings[authors_dict['Olivier Grisel'], :]\n",
        "all_papers_gae_emb = gae_embeddings[len(authors_dict):, :]\n",
        "\n",
        "out = F.cosine_similarity(author_gae_emb, all_papers_gae_emb)\n",
        "for title, score in zip(out.topk(10).indices, out.topk(10).values) :\n",
        "    print(f\"{papers_dict[title]} - {score}\\n\")"
      ],
      "metadata": {
        "id": "rprh8VX2m7NO",
        "colab": {
          "base_uri": "https://localhost:8080/"
        },
        "outputId": "b0971080-fc89-4c4a-989d-1923242072cb"
      },
      "execution_count": 23,
      "outputs": [
        {
          "output_type": "stream",
          "name": "stdout",
          "text": [
            "Binarizing document image using coplanar prefilter - 0.8994179368019104\n",
            "\n",
            "Tensor product multiresolution analysis with error control for compact image representation - 0.8909525275230408\n",
            "\n",
            "A new spread spectrum watermarking scheme to achieve a trade-off between security and robustness - 0.8891063928604126\n",
            "\n",
            "Wavelet-based shape from shading - 0.8832361102104187\n",
            "\n",
            "Acoustic Tomography for Non Destructive Testing of Stone Masonry - 0.8820244669914246\n",
            "\n",
            "Locally Weighted Multi-atlas Construction - 0.8812479972839355\n",
            "\n",
            "A stable credit rating model based on learning vector quantization - 0.8806866407394409\n",
            "\n",
            "Large deformation diffeomorphic registration of diffusion-weighted imaging data. - 0.880285382270813\n",
            "\n",
            "Segmentation and Measurement of the Cortex from 3D MR Images - 0.8709152340888977\n",
            "\n",
            "A fast algorithm for the computation of 2-D forward and inverse MDCT - 0.8689351081848145\n",
            "\n"
          ]
        }
      ]
    },
    {
      "cell_type": "markdown",
      "source": [
        "## Recommendations using VGAE"
      ],
      "metadata": {
        "id": "TsHHXiQfnJKC"
      }
    },
    {
      "cell_type": "markdown",
      "source": [
        "### by decoding VGAE latent dim"
      ],
      "metadata": {
        "id": "nSZhlj2gw6xG"
      }
    },
    {
      "cell_type": "code",
      "source": [
        "recommendations = recommend_vgae(vgae, 'Charles Ollion', authors_dict, papers_dict).topk(K)\n",
        "for title, score in zip(recommendations.indices, recommendations.values) :\n",
        "    print(f\"{papers_dict[title]} - {score}\\n\")"
      ],
      "metadata": {
        "id": "elQhLCYynMTj",
        "colab": {
          "base_uri": "https://localhost:8080/"
        },
        "outputId": "6d347a77-5dd1-4bbd-cfce-f01a320ed60f"
      },
      "execution_count": 24,
      "outputs": [
        {
          "output_type": "stream",
          "name": "stdout",
          "text": [
            "An integrated environment for the complete development cycle of an object-oriented distributed real-time system - 0.9982654452323914\n",
            "\n",
            "Validation of UML Models via a Mapping to Communicating Extended Timed Automata - 0.9982208609580994\n",
            "\n",
            "Online Visualization of OpenMP Programs in the DeWiz Environment - 0.9981902241706848\n",
            "\n",
            "Event Handling in the J-OCM Monitoring System - 0.9979374408721924\n",
            "\n",
            "A case study on the lightweight verification of a multi-threaded task server - 0.9979352951049805\n",
            "\n",
            "Modeling and Schedulability Analysis of Hard Real-Time Distributed Systems Based on Ada Components - 0.9979023933410645\n",
            "\n",
            "Verification of Object-Z Specifications by Using Transition Systems: Application to the Radiomobile Network Design Problem - 0.9978950023651123\n",
            "\n",
            "Visual modeling and verification of distributed reactive systems - 0.9978700876235962\n",
            "\n",
            "Request Processing in the Java-Oriented OMIS Compliant Monitoring System - 0.9978686571121216\n",
            "\n",
            "Design and implementation of a discrete event system using statecharts - 0.9978266358375549\n",
            "\n"
          ]
        }
      ]
    },
    {
      "cell_type": "markdown",
      "source": [
        "### by applying cosine similarity"
      ],
      "metadata": {
        "id": "MBWab8bxxB37"
      }
    },
    {
      "cell_type": "code",
      "source": [
        "gae_embeddings = vgae.encode(data.x, data.edge_index)\n",
        "author_gae_emb = gae_embeddings[authors_dict['Charles Ollion'], :]\n",
        "all_papers_gae_emb = gae_embeddings[len(authors_dict):, :]\n",
        "\n",
        "out = F.cosine_similarity(author_gae_emb, all_papers_gae_emb)\n",
        "for title, score in zip(out.topk(10).indices, out.topk(10).values) :\n",
        "    print(f\"{papers_dict[title]} - {score}\\n\")"
      ],
      "metadata": {
        "id": "Thw32AiNxEw1",
        "colab": {
          "base_uri": "https://localhost:8080/"
        },
        "outputId": "088f84af-4b15-4586-f258-5d77ed848a68"
      },
      "execution_count": 25,
      "outputs": [
        {
          "output_type": "stream",
          "name": "stdout",
          "text": [
            "Region-based memory management for GPU programming languages: enabling rich data structures on a spartan host - 0.9389426112174988\n",
            "\n",
            "Spezifikation und Prototyping graphbasierter Systeme - 0.9348505139350891\n",
            "\n",
            "An analysis of interdomain availability and causes of failures based on active measurements - 0.9260644912719727\n",
            "\n",
            "Model checking timed automata with priorities using DBM subtraction - 0.9248962998390198\n",
            "\n",
            "The Implementation of ASSIST, an Environment for Parallel and Distributed Programming - 0.8310964107513428\n",
            "\n",
            "A graph-based implementation for mechanized refinement calculus of OO programs - 0.8226068615913391\n",
            "\n",
            "A comparison of Statecharts step semantics - 0.8190563917160034\n",
            "\n",
            "Precise Semantics of EMF Model Transformations by Graph Transformation - 0.810435950756073\n",
            "\n",
            "I/O in Parallel Applications: the Weakest Link - 0.8077880144119263\n",
            "\n",
            "EML: a tree overlay-based visual language for business process modelling - 0.8044724464416504\n",
            "\n"
          ]
        }
      ]
    },
    {
      "cell_type": "code",
      "source": [
        ""
      ],
      "metadata": {
        "id": "fjfja1cu2_iP"
      },
      "execution_count": 25,
      "outputs": []
    }
  ]
}